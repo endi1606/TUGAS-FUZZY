{
 "cells": [
  {
   "cell_type": "code",
   "execution_count": 1,
   "id": "86cdad07-e4d0-49d7-bf13-a3c31983d5b5",
   "metadata": {},
   "outputs": [],
   "source": [
    "class Fuzzy():\n",
    "\n",
    "    def __init__(self):\n",
    "        self.max = 0\n",
    "        self.min = 0\n",
    "\n",
    "    def down(self, x):\n",
    "        return (self.max - x) / (self.max - self.min)\n",
    "\n",
    "    def up(self, x):\n",
    "        return (x - self.min) / (self.max - self.min)\n",
    "\n",
    "    def rev_down(self, value):\n",
    "        return self.max - value * (self.max - self.min)\n",
    "\n",
    "    def rev_up(self, value):\n",
    "        return value * (self.max - self.min) + self.min"
   ]
  },
  {
   "cell_type": "code",
   "execution_count": 4,
   "id": "325b921d-4f9e-4230-be89-993c2c7dcf91",
   "metadata": {},
   "outputs": [
    {
     "name": "stdout",
     "output_type": "stream",
     "text": [
      "Nilai fuzzy variable permintaan himpunan turun adalah: 0.42857142857142855\n",
      "Nilai fuzzy variable permintaan himpunan naik adalah: 0.5714285714285714\n"
     ]
    }
   ],
   "source": [
    "#permintaan\n",
    "\n",
    "fis = Fuzzy()\n",
    "\n",
    "fis.min = 1000\n",
    "fis.max = 8000\n",
    "\n",
    "turun = fis.down(5000)\n",
    "print(f\"Nilai fuzzy variable permintaan himpunan turun adalah: {turun}\")\n",
    "\n",
    "naik = fis.up(5000)\n",
    "print(f\"Nilai fuzzy variable permintaan himpunan naik adalah: {naik}\")"
   ]
  },
  {
   "cell_type": "code",
   "execution_count": 3,
   "id": "ab958b3b-cfc0-435d-9afa-158028e3a715",
   "metadata": {},
   "outputs": [
    {
     "name": "stdout",
     "output_type": "stream",
     "text": [
      "Nilai fuzzy variable Persediaan himpunan sedikit adalah: 0.375\n",
      "Nilai fuzzy variable Persediaan himpunan banyak adalah: 0.625\n"
     ]
    }
   ],
   "source": [
    "#persediaan\n",
    "\n",
    "fis.min = 200\n",
    "fis.max = 1000\n",
    "\n",
    "sedikit = fis.down(700)\n",
    "print(f\"Nilai fuzzy variable Persediaan himpunan sedikit adalah: {sedikit}\")\n",
    "\n",
    "banyak = fis.up(700)\n",
    "print(f\"Nilai fuzzy variable Persediaan himpunan banyak adalah: {banyak}\")"
   ]
  },
  {
   "cell_type": "code",
   "execution_count": 5,
   "id": "aba025a1-9bc2-4ee4-b246-474600702cae",
   "metadata": {},
   "outputs": [
    {
     "name": "stdout",
     "output_type": "stream",
     "text": [
      "Nilai riil variable Produksi himpunan berkurang adalah: 6500.0\n",
      "Nilai riil variable Produksi himpunan bertambah adalah: 5600.0\n"
     ]
    }
   ],
   "source": [
    "# produksi\n",
    "fis = Fuzzy()\n",
    "fis.min = 2000\n",
    "fis.max = 8000\n",
    "\n",
    "berkurang = fis.rev_down(0.25)\n",
    "print(f\"Nilai riil variable Produksi himpunan berkurang adalah: {berkurang}\")\n",
    "\n",
    "bertambah = fis.rev_up(0.6)\n",
    "print(f\"Nilai riil variable Produksi himpunan bertambah adalah: {bertambah}\")"
   ]
  },
  {
   "cell_type": "code",
   "execution_count": 6,
   "id": "e22462c9-07f2-4904-93ac-ad02bd4340a6",
   "metadata": {},
   "outputs": [],
   "source": [
    "# Permintaan = Demand\n",
    "#     turun = decrease\n",
    "#     naik = increase\n",
    "# Persediaan = Stock\n",
    "#     sedikit = a_few\n",
    "#     banyak = a_lot\n",
    "# Produksi = Production\n",
    "#     berkurang = reduce\n",
    "#     bertambah = add\n",
    "\n",
    "class Demand(Fuzzy):\n",
    "\n",
    "    def __init__(self):\n",
    "        self.min = 1000\n",
    "        self.max = 8000\n",
    "\n",
    "    def decrease(self, x):\n",
    "        if x < self.min:\n",
    "            return 1\n",
    "        if x > self.max:\n",
    "            return 0\n",
    "        return self.down(x)\n",
    "\n",
    "    def increase(self, x):\n",
    "        if x < self.min:\n",
    "            return 0\n",
    "        if x > self.max:\n",
    "            return 1\n",
    "        return self.up(x)\n",
    "\n",
    "class Stock(Fuzzy):\n",
    "\n",
    "    def __init__(self):\n",
    "        self.min = 200\n",
    "        self.max = 1000\n",
    "\n",
    "    def a_few(self, x):\n",
    "        if x < self.min:\n",
    "            return 1\n",
    "        if x > self.max:\n",
    "            return 0\n",
    "        return self.down(x)\n",
    "\n",
    "    def a_lot(self, x):\n",
    "        if x < self.min:\n",
    "            return 0\n",
    "        if x > self.max:\n",
    "            return 1\n",
    "        return self.up(x)\n",
    "    \n",
    "\n",
    "class Production(Fuzzy):\n",
    "\n",
    "    def __init__(self):\n",
    "        self.min = 2000\n",
    "        self.max = 800\n",
    "    \n",
    "    def reduce(self, fuzzy_value):\n",
    "        return self.rev_down(fuzzy_value)\n",
    "\n",
    "    def add(self, fuzzy_value):\n",
    "        return self.rev_up(fuzzy_value)"
   ]
  },
  {
   "cell_type": "code",
   "execution_count": 7,
   "id": "561891eb-fa7f-4d95-9ced-d69df6c9dcdf",
   "metadata": {},
   "outputs": [
    {
     "data": {
      "text/plain": [
       "0.42857142857142855"
      ]
     },
     "execution_count": 7,
     "metadata": {},
     "output_type": "execute_result"
    }
   ],
   "source": [
    "pmt = Demand()\n",
    "x = 5000\n",
    "pmt.decrease(x)"
   ]
  },
  {
   "cell_type": "code",
   "execution_count": 8,
   "id": "2ee95fdb-230a-448f-87b5-ebcfc7ee8560",
   "metadata": {},
   "outputs": [
    {
     "data": {
      "text/plain": [
       "1280.0"
      ]
     },
     "execution_count": 8,
     "metadata": {},
     "output_type": "execute_result"
    }
   ],
   "source": [
    "prod = Production()\n",
    "fuzzy_value = 0.6\n",
    "prod.add(fuzzy_value)"
   ]
  },
  {
   "cell_type": "code",
   "execution_count": 9,
   "id": "32977d6a-91b3-4330-9899-0c4fd0f85647",
   "metadata": {},
   "outputs": [],
   "source": [
    "rule_map = {\n",
    "    (\"decrease\", \"few\"): \"increase\",\n",
    "    (\"decrease\", \"medium\"): \"decrease\",\n",
    "    (\"decrease\", \"many\"): \"decrease\",\n",
    "    (\"steady\", \"few\"): \"increase\",\n",
    "    (\"steady\", \"medium\"): \"decrease\",\n",
    "    (\"steady\", \"many\"): \"decrease\",\n",
    "    (\"increase\", \"few\"): \"increase\",\n",
    "    (\"increase\", \"medium\"): \"increase\",\n",
    "    (\"increase\", \"many\"): \"decrease\"\n",
    "}\n"
   ]
  },
  {
   "cell_type": "code",
   "execution_count": 11,
   "id": "4bc39368-d5c4-4ce2-b6ea-e4301309e2ec",
   "metadata": {},
   "outputs": [
    {
     "name": "stdout",
     "output_type": "stream",
     "text": [
      "Jadi, jumlah produksi jilbab putih yang harus diproduksi sebanyak 1361 kemasan.\n"
     ]
    }
   ],
   "source": [
    "# Inisialisasi variabel\n",
    "fuzzy_real = 0  # Untuk menyimpan hasil penjumlahan berbobot\n",
    "fuzzy = 0       # Untuk menyimpan total bobot\n",
    "\n",
    "for k, v in rule_map.items():\n",
    "    # print(f\"{k[0]=} {k[1]=}\")\n",
    "    # print(f\"{v=}\")\n",
    "    demand = Demand()\n",
    "    stock = Stock()\n",
    "    prod = Production()\n",
    "    \n",
    "    x_demand = 5000\n",
    "    x_stock = 700\n",
    "\n",
    "    # Perhitungan nilai demand\n",
    "    demand_value = demand.decrease(x_demand) if k[0] == \"decrease\" else demand.increase(x_demand)\n",
    "    \n",
    "    # Perhitungan nilai stock\n",
    "    stock_value = stock.a_few(x_stock) if k[1] == \"a_few\" else stock.a_lot(x_stock)\n",
    "\n",
    "    # Ambil nilai minimum antara demand dan stock\n",
    "    prod_value = min(demand_value, stock_value)\n",
    "\n",
    "    # Perhitungan produksi\n",
    "    x_prod = prod.reduce(prod_value) if v == \"reduce\" else prod.add(prod_value)\n",
    "    \n",
    "    # Update fuzzy_real dan fuzzy\n",
    "    fuzzy_real += prod_value * x_prod\n",
    "    fuzzy += prod_value\n",
    "\n",
    "# Hitung hasil akhir\n",
    "result = int(fuzzy_real / fuzzy)\n",
    "print(f\"Jadi, jumlah produksi jilbab putih yang harus diproduksi sebanyak {result} kemasan.\")\n"
   ]
  },
  {
   "cell_type": "code",
   "execution_count": null,
   "id": "552a2e39-f91a-419d-8e3a-ed8d9f81b876",
   "metadata": {},
   "outputs": [],
   "source": []
  },
  {
   "cell_type": "code",
   "execution_count": null,
   "id": "84b2d33b-f476-4ccd-937f-ab00cd913de1",
   "metadata": {},
   "outputs": [],
   "source": []
  }
 ],
 "metadata": {
  "kernelspec": {
   "display_name": "Python 3 (ipykernel)",
   "language": "python",
   "name": "python3"
  },
  "language_info": {
   "codemirror_mode": {
    "name": "ipython",
    "version": 3
   },
   "file_extension": ".py",
   "mimetype": "text/x-python",
   "name": "python",
   "nbconvert_exporter": "python",
   "pygments_lexer": "ipython3",
   "version": "3.12.6"
  }
 },
 "nbformat": 4,
 "nbformat_minor": 5
}
